{
 "cells": [
  {
   "cell_type": "code",
   "execution_count": null,
   "metadata": {},
   "outputs": [],
   "source": [
    "\n",
    "# A script to rename files in the source directories. This assumes hte numbering appended to the filenames isn't necessary for RAG.\n",
    "\n",
    "# Directory to process\n",
    "DIRECTORY=\".\"\n",
    "\n",
    "# Loop through all files in the directory and subdirectories\n",
    "find \"$DIRECTORY\" -type f | while read FILE; do\n",
    "  # Extract the base name of the file\n",
    "  BASENAME=$(basename \"$FILE\")\n",
    "  \n",
    "  # Remove instances of numbers followed by a hyphen\n",
    "  NEWNAME=$(echo \"$BASENAME\" | sed -E 's/[0-9]+-//g')\n",
    "  \n",
    "  # Rename the file if the name has changed\n",
    "  if [ \"$BASENAME\" != \"$NEWNAME\" ]; then\n",
    "    DIRNAME=$(dirname \"$FILE\")\n",
    "    mv \"$FILE\" \"$DIRNAME/$NEWNAME\"\n",
    "    echo \"Renamed $BASENAME to $NEWNAME\"\n",
    "  fi\n",
    "done"
   ]
  }
 ],
 "metadata": {
  "language_info": {
   "name": "python"
  }
 },
 "nbformat": 4,
 "nbformat_minor": 2
}
