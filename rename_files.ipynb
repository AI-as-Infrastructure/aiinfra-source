{
 "cells": [
  {
   "cell_type": "code",
   "execution_count": 1,
   "metadata": {},
   "outputs": [
    {
     "name": "stdout",
     "output_type": "stream",
     "text": [
      "Renamed 8-Thursday, 11th July, 1901.txt to Thursday, 11th July, 1901.txt\n",
      "Renamed 4-Thursday, 4th July, 1901.txt to Thursday, 4th July, 1901.txt\n",
      "Renamed 11-Thursday, 18th July, 1901.txt to Thursday, 18th July, 1901.txt\n",
      "Renamed 10-Tuesday, 16th July, 1901.txt to Tuesday, 16th July, 1901.txt\n",
      "Renamed 6-Tuesday, 9th July, 1901.txt to Tuesday, 9th July, 1901.txt\n",
      "Renamed 15-Thursday, 25th July, 1901.txt to Thursday, 25th July, 1901.txt\n",
      "Renamed 14-Wednesday, 24th July, 1901.txt to Wednesday, 24th July, 1901.txt\n",
      "Renamed 1-Monday, 1st July, 1901.txt to Monday, 1st July, 1901.txt\n",
      "Renamed 12-Friday, 19th July, 1901.txt to Friday, 19th July, 1901.txt\n",
      "Renamed 2-Tuesday, 2nd July, 1901.txt to Tuesday, 2nd July, 1901.txt\n",
      "Renamed 13-Tuesday, 23rd July, 1901.txt to Tuesday, 23rd July, 1901.txt\n",
      "Renamed 16-Friday, 26th July, 1901.txt to Friday, 26th July, 1901.txt\n",
      "Renamed 7-Wednesday, 10th July, 1901.txt to Wednesday, 10th July, 1901.txt\n",
      "Renamed 9-Friday, 12th July, 1901.txt to Friday, 12th July, 1901.txt\n",
      "Renamed 5-Friday, 5th July, 1901.txt to Friday, 5th July, 1901.txt\n",
      "Renamed 3-Wednesday, 3rd July, 1901.txt to Wednesday, 3rd July, 1901.txt\n"
     ]
    }
   ],
   "source": [
    "\n",
    "# A script to rename files in the source directories. This assumes the numbering appended to the filenames isn't necessary for RAG.\n",
    "\n",
    "import os\n",
    "import re\n",
    "\n",
    "# Directory to process\n",
    "DIRECTORY = \".\"\n",
    "\n",
    "# Loop through all files in the directory and subdirectories\n",
    "for root, dirs, files in os.walk(DIRECTORY):\n",
    "    for filename in files:\n",
    "        # Remove instances of numbers followed by a hyphen\n",
    "        newname = re.sub(r'[0-9]+-', '', filename)\n",
    "        \n",
    "        # Rename the file if the name has changed\n",
    "        if filename != newname:\n",
    "            old_file = os.path.join(root, filename)\n",
    "            new_file = os.path.join(root, newname)\n",
    "            os.rename(old_file, new_file)\n",
    "            print(f\"Renamed {filename} to {newname}\")"
   ]
  }
 ],
 "metadata": {
  "kernelspec": {
   "display_name": "Python 3",
   "language": "python",
   "name": "python3"
  },
  "language_info": {
   "codemirror_mode": {
    "name": "ipython",
    "version": 3
   },
   "file_extension": ".py",
   "mimetype": "text/x-python",
   "name": "python",
   "nbconvert_exporter": "python",
   "pygments_lexer": "ipython3",
   "version": "3.10.12"
  }
 },
 "nbformat": 4,
 "nbformat_minor": 2
}
